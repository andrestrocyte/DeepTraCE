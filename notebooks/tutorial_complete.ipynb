{
 "cells": [
  {
   "cell_type": "code",
   "execution_count": null,
   "id": "ba2ad307",
   "metadata": {
    "scrolled": false
   },
   "outputs": [],
   "source": [
    "# This will open the figure for you to select the angles\n",
    "%matplotlib qt\n",
    "# get the stack and downsample it\n",
    "from deeptrace import *\n",
    "from deeptrace.plotting import *\n",
    "import time\n",
    "tstart = time.time()\n",
    "stack = BrainStack(['G:\\\\Baram_collab_lightsheet\\\\num_1\\\\230512_DPC1_488_s3_0_8x_15-37-35',\n",
    "                  'G:\\\\Baram_collab_lightsheet\\\\num_1\\\\230512_DPC1_640_s3_0_8x_14-03-08'])\n",
    "\n",
    "from tqdm.notebook import tqdm\n",
    "\n",
    "pbar = tqdm()\n",
    "res = stack.deeptrace_analysis(angles = None,\n",
    "                               trailmap_models = [f for f in np.sort(trailmap_list_models())[:3]],\n",
    "                               pbar = pbar)\n",
    "pbar.close()\n",
    "print(time.time() - tstart)\n",
    "\n",
    "# this is where the selection is C:\\cygwin\\home\\Milner\\DeepTraCE\\registration/model_selection"
   ]
  },
  {
   "cell_type": "code",
   "execution_count": null,
   "id": "921f024c",
   "metadata": {},
   "outputs": [],
   "source": []
  },
  {
   "cell_type": "code",
   "execution_count": null,
   "id": "1fbf729b",
   "metadata": {},
   "outputs": [],
   "source": []
  },
  {
   "cell_type": "code",
   "execution_count": null,
   "id": "fe653cd1",
   "metadata": {},
   "outputs": [],
   "source": [
    "# You can use this to check that the rotation makes sense\n",
    "tt = rotate_stack(stack.downsampled_stack[0],*res['angles'])\n",
    "interact_show_stack(tt)"
   ]
  },
  {
   "cell_type": "code",
   "execution_count": null,
   "id": "dd97a492",
   "metadata": {},
   "outputs": [],
   "source": [
    "# This will run TRAILMAP\n",
    "pbar = tqdm()\n",
    "res = stack.deeptrace_analysis(angles = [float(f) for f in res['angles']],\n",
    "                               trailmap_models = [f for f in np.sort(trailmap_list_models())[:3]],\n",
    "                               pbar = pbar)\n",
    "pbar.close()\n",
    "print(time.time() - tstart)"
   ]
  },
  {
   "cell_type": "code",
   "execution_count": null,
   "id": "540712ed",
   "metadata": {},
   "outputs": [],
   "source": [
    "# This does the counting and combines the models\n",
    "# load results\n",
    "params,autof,models = load_deeptrace_models(res['analysis_folder'])\n",
    "print(\"Combining models\") \n",
    "combined,model_selection = combine_models(models,default_model=2)\n",
    "print(\"Refining model using connected components analysis\")\n",
    "refined_model = refine_connected_components(combined)\n",
    "print(\"Performing quantification.\")\n",
    "res = count_labeling_density(refined_model, model_selection)\n"
   ]
  },
  {
   "cell_type": "code",
   "execution_count": null,
   "id": "af4fd9d1",
   "metadata": {},
   "outputs": [],
   "source": [
    "# this plots the qua\n",
    "%matplotlib inline\n",
    "\n",
    "plt.figure(figsize = [20,5])\n",
    "plt.bar(np.arange(len(res)),np.array(res.density),color = res.color)\n",
    "plt.xticks(np.arange(len(res)),res.acronym,rotation = 90,fontsize = 7);\n",
    "plt.xlim([-1,len(res)])\n",
    "plt.ylabel('Density normalized by area volume',fontsize = 14)\n",
    "\n",
    "plt.figure(figsize = [20,5])\n",
    "plt.bar(np.arange(len(res)),res.count_pixels/np.sum(res.count_pixels),color = res.color)\n",
    "plt.xticks(np.arange(len(res)),res.acronym,rotation = 90,fontsize = 7);\n",
    "plt.xlim([-1,len(res)])\n",
    "plt.ylabel('Intensity per area',fontsize = 14);"
   ]
  },
  {
   "cell_type": "code",
   "execution_count": null,
   "id": "b2789be9",
   "metadata": {},
   "outputs": [],
   "source": [
    "# display the refined model and the atlas\n",
    "atlas,ontology,header = read_atlas()\n",
    "interact_stack_overlay_areas(refined_model,atlas)"
   ]
  },
  {
   "cell_type": "code",
   "execution_count": null,
   "id": "86763a10",
   "metadata": {},
   "outputs": [],
   "source": [
    "print(res)"
   ]
  },
  {
   "cell_type": "code",
   "execution_count": null,
   "id": "79645216",
   "metadata": {},
   "outputs": [],
   "source": [
    "res.to_csv('G:\\\\Baram_collab_lightsheet\\\\num_9\\\\deeptrace_analysis\\\\230511_DPC1_488_s3_0_8x_16-05-01\\\\num_1_data.csv')"
   ]
  },
  {
   "cell_type": "code",
   "execution_count": null,
   "id": "889f55d7",
   "metadata": {},
   "outputs": [],
   "source": []
  }
 ],
 "metadata": {
  "kernelspec": {
   "display_name": "Python 3 (ipykernel)",
   "language": "python",
   "name": "python3"
  },
  "language_info": {
   "codemirror_mode": {
    "name": "ipython",
    "version": 3
   },
   "file_extension": ".py",
   "mimetype": "text/x-python",
   "name": "python",
   "nbconvert_exporter": "python",
   "pygments_lexer": "ipython3",
   "version": "3.7.13"
  }
 },
 "nbformat": 4,
 "nbformat_minor": 5
}
