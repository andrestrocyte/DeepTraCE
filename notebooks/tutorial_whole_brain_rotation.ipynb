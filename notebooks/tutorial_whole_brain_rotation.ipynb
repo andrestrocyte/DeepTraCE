{
 "cells": [
  {
   "cell_type": "code",
   "execution_count": null,
   "id": "ba2ad307",
   "metadata": {
    "scrolled": false
   },
   "outputs": [],
   "source": [
    "# use matplotlib to visualize the downsampled stack\n",
    "%matplotlib qt\n",
    "# get the stack and downsample it\n",
    "from deeptrace import *\n",
    "from deeptrace.plotting import *\n",
    "import time\n",
    "tstart = time.time()\n",
    "stack = BrainStack(['/home/joao/deeptrace_data/210723_NAc326F_488_s3_0_8x_13-31-25',\n",
    "                  '/home/joao/deeptrace_data/210723_NAc326F_640_s3_0_8x_11-50-51'])\n",
    "\n",
    "from tqdm.notebook import tqdm\n",
    "\n",
    "pbar = tqdm()\n",
    "\n",
    "res = stack.deeptrace_analysis(angles = [4.370797, 0, 0],\n",
    "                               trailmap_models = [f for f in np.sort(trailmap_list_models())[:3]],\n",
    "                               pbar = pbar)\n",
    "\n",
    "pbar.close()\n",
    "print(time.time() - tstart)"
   ]
  },
  {
   "cell_type": "code",
   "execution_count": null,
   "id": "8096ebe5",
   "metadata": {},
   "outputs": [],
   "source": [
    "\n",
    "\n"
   ]
  },
  {
   "cell_type": "code",
   "execution_count": null,
   "id": "2cb4b088",
   "metadata": {},
   "outputs": [],
   "source": [
    "from deeptrace import *\n",
    "atlas,ontology,header = read_atlas()\n",
    "ontology"
   ]
  },
  {
   "cell_type": "code",
   "execution_count": null,
   "id": "540712ed",
   "metadata": {},
   "outputs": [],
   "source": [
    "# Discover the angles using the blood vessels.\n",
    "res = interact_find_angles(raw.downsampled_data[0]);"
   ]
  },
  {
   "cell_type": "code",
   "execution_count": null,
   "id": "af4fd9d1",
   "metadata": {},
   "outputs": [],
   "source": [
    "# Apply the transform to the stack\n",
    "Y = rotate_stack(raw.downsampled_data[0],\n",
    "                 *res['angles'])\n",
    "interact_show_stack(Y)"
   ]
  },
  {
   "cell_type": "code",
   "execution_count": null,
   "id": "8dfe946b",
   "metadata": {},
   "outputs": [],
   "source": [
    "res = dict(angles = [4.38, 0, 0]) # For the example dataset"
   ]
  },
  {
   "cell_type": "code",
   "execution_count": null,
   "id": "0fb60627",
   "metadata": {},
   "outputs": [],
   "source": [
    "params,autof,models,concatmodel = load_deeptrace_models('d:/WholeBrain/sampledata/deeptrace_analysis/210723_NAc326F_488_s3_0_8x_13-31-25')\n",
    "interact_show_stack(models[0])"
   ]
  },
  {
   "cell_type": "code",
   "execution_count": null,
   "id": "42f27e22",
   "metadata": {},
   "outputs": [],
   "source": [
    "\n",
    "atlas, header = nrrd.read('/home/joao/DeepTraCE/registration/annotation_10_lsfm_collapse_crop_flip_newf.nrrd')\n",
    "atlas = atlas.transpose([2,1,0])\n",
    "im = imread('/home/joao/DeepTraCE/temp/result.tiff')\n",
    "orig = imread('/home/joao/DeepTraCE/registration/average_template_lsfm_10_crop_flip.tif')\n"
   ]
  },
  {
   "cell_type": "code",
   "execution_count": null,
   "id": "ad535ba5",
   "metadata": {},
   "outputs": [],
   "source": []
  },
  {
   "cell_type": "code",
   "execution_count": null,
   "id": "5fb6f5ef",
   "metadata": {},
   "outputs": [],
   "source": [
    "\n",
    "from skimage.measure import find_contours\n",
    "from skimage.feature import canny\n",
    "\n"
   ]
  },
  {
   "cell_type": "code",
   "execution_count": null,
   "id": "692b4977",
   "metadata": {},
   "outputs": [],
   "source": [
    "isel = 300\n",
    "plt.figure()\n",
    "edg = canny(atlas[isel,:,:],sigma = 3).astype(np.float32)\n",
    "from skimage import morphology\n",
    "edg = morphology.dilation(edg)\n",
    "# edg[edg == 0] = np.nan\n",
    "# plt.imshow(orig[isel,:,:],cmap='Greens')\n",
    "plt.imshow(im[isel,:,:],cmap='gray')\n",
    "plt.imshow(edg,cmap = cmap1,alpha = 0.5) #im[isel])\n",
    "# for cc in c:\n",
    "#     plt.plot(cc[:,1],cc[:,0],'w')"
   ]
  },
  {
   "cell_type": "code",
   "execution_count": null,
   "id": "c067e2e7",
   "metadata": {},
   "outputs": [],
   "source": []
  },
  {
   "cell_type": "code",
   "execution_count": null,
   "id": "d4d9954c",
   "metadata": {},
   "outputs": [],
   "source": [
    "from skimage import morphology,feature\n",
    "\n",
    "def interact_stack_overlay_areas(X,atlas, cmap = 'gray',clim = None,overlay_color = 'yellow'):\n",
    "    '''\n",
    "    Interactive stack plot using matplotlib\n",
    "       - left arrow or \"a\" key (decrease slice)\n",
    "       - right arrow or \"d\" key (increase slice)\n",
    "\n",
    "    Example:\n",
    "\n",
    "       - Y is a SLICESxHxW array\n",
    "\n",
    "    '''\n",
    "    from matplotlib.widgets import Slider\n",
    "    fig = plt.figure()\n",
    "    fig.clf()\n",
    "    ax = fig.add_axes([0,0,1,1])\n",
    "    iframe = len(X)//2\n",
    "    def get_edges(iframe):\n",
    "        edg = feature.canny(atlas[:,:,iframe],sigma = 3)\n",
    "        return morphology.dilation(edg).astype(bool)\n",
    "    \n",
    "    cm1 = plt.matplotlib.colors.ListedColormap(['none', overlay_color])\n",
    "\n",
    "    im = plt.imshow(X[:,:,iframe],\n",
    "                    aspect = 'auto',\n",
    "                    clim=clim,\n",
    "                   cmap = cmap)\n",
    "    ed = plt.imshow(get_edges(iframe),cmap = cm1) \n",
    "\n",
    "    txt = plt.text(0,0,iframe,color = 'w',va = 'top')\n",
    "    sliderax = fig.add_axes([0.01, 0.01, 0.15, 0.01])\n",
    "    islide = Slider(sliderax,\n",
    "                    'slice #',\n",
    "                    valmin=0,\n",
    "                    valmax=len(X)-1,\n",
    "                    valstep=1,\n",
    "                    initcolor='w',\n",
    "                    valinit = len(X)//2)\n",
    "    def update(val):\n",
    "        if not type(val) in [float,int,np.int64,np.float64]:\n",
    "            if val.key in ['right','d']:\n",
    "                islide.set_val(np.clip(islide.val + 1,0,len(X)-1))\n",
    "            elif val.key in ['left','a']:\n",
    "                islide.set_val(np.clip(islide.val - 1,0,len(X)-1))\n",
    "        f = int(np.floor(islide.val))\n",
    "        im.set_data(X[:,:,f])\n",
    "        ed.set_data(get_edges(f))\n",
    "        txt.set_text(f)\n",
    "    islide.on_changed(update)\n",
    "    fig.canvas.mpl_connect('key_press_event', update)\n",
    "    return \n",
    "interact_stack_overlay_areas(im,atlas)"
   ]
  },
  {
   "cell_type": "code",
   "execution_count": null,
   "id": "e85999b9",
   "metadata": {},
   "outputs": [],
   "source": [
    "import pandas as pd\n",
    "\n",
    "ontology_path = '/home/joao/DeepTraCE/registration/aba_ontology.csv'\n",
    "def load_atlas(atlas_folder):\n",
    "    ontology = pd.read_csv()\n",
    "    import nrrd\n",
    "    atlas, header = nrrd.read('/home/joao/DeepTraCE/registration/annotation_10_lsfm_collapse_crop_flip_newf.nrrd')\n",
    "    return atlas, header, ontology"
   ]
  },
  {
   "cell_type": "code",
   "execution_count": null,
   "id": "1a4a8fbf",
   "metadata": {
    "scrolled": true
   },
   "outputs": [],
   "source": [
    "# run transformix on another dataset\n",
    "pbar = tqdm()\n",
    "elastix_apply_transform(Y,a,pbar = pbar)"
   ]
  },
  {
   "cell_type": "code",
   "execution_count": null,
   "id": "1298f46d",
   "metadata": {},
   "outputs": [],
   "source": [
    "a = a.replace('0.txt','1.txt')\n",
    "\n"
   ]
  },
  {
   "cell_type": "code",
   "execution_count": null,
   "id": "09c98225",
   "metadata": {},
   "outputs": [],
   "source": [
    "from deeptrace.plotting import interact_show_stack\n",
    "\n",
    "interact_show_stack(Y)"
   ]
  }
 ],
 "metadata": {
  "kernelspec": {
   "display_name": "Python 3 (ipykernel)",
   "language": "python",
   "name": "python3"
  },
  "language_info": {
   "codemirror_mode": {
    "name": "ipython",
    "version": 3
   },
   "file_extension": ".py",
   "mimetype": "text/x-python",
   "name": "python",
   "nbconvert_exporter": "python",
   "pygments_lexer": "ipython3",
   "version": "3.10.6"
  }
 },
 "nbformat": 4,
 "nbformat_minor": 5
}
