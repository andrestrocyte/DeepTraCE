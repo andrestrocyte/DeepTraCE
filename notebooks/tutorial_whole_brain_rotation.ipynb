{
 "cells": [
  {
   "cell_type": "code",
   "execution_count": 1,
   "id": "ba2ad307",
   "metadata": {},
   "outputs": [
    {
     "data": {
      "application/vnd.jupyter.widget-view+json": {
       "model_id": "601b5907469847b5a88615147153abe9",
       "version_major": 2,
       "version_minor": 0
      },
      "text/plain": [
       "0it [00:00, ?it/s]"
      ]
     },
     "metadata": {},
     "output_type": "display_data"
    }
   ],
   "source": [
    "# use matplotlib to visualize the downsampled stack\n",
    "%matplotlib qt\n",
    "# get the stack and downsample it\n",
    "from deeptrace import *\n",
    "from deeptrace.plotting import *\n",
    "raw = BrainStack(['/home/joao/deeptrace_data/210723_NAc326F_488_s3_0_8x_13-31-25/',\n",
    "                  '/home/joao/deeptrace_data/210723_NAc326F_640_s3_0_8x_11-50-51/'],\n",
    "                 downsample = True)\n",
    "from tqdm.notebook import tqdm\n",
    "pbar = tqdm()\n",
    "raw.downsample(pbar = pbar)\n",
    "pbar.close()"
   ]
  },
  {
   "cell_type": "code",
   "execution_count": 2,
   "id": "f2625c5e",
   "metadata": {},
   "outputs": [
    {
     "name": "stderr",
     "output_type": "stream",
     "text": [
      "/home/joao/lib/DeepTraCE/gui/deeptrace/plotting.py:89: RuntimeWarning: invalid value encountered in float_scalars\n",
      "  points_dict['angles'][0] = np.rad2deg(np.arctan((z[0,2]-z[1,2])/(z[0,1]-z[1,1])))\n"
     ]
    }
   ],
   "source": [
    "# Discover the angles using the blood vessels.\n",
    "res = interact_find_angles(raw.downsampled_data[0]);"
   ]
  },
  {
   "cell_type": "code",
   "execution_count": 4,
   "id": "661b8d3b",
   "metadata": {},
   "outputs": [],
   "source": [
    "# Apply the transform to the stack\n",
    "Y = rotate_stack(raw.downsampled_data[0],\n",
    "                 *res['angles'])\n",
    "interact_show_stack(Y)"
   ]
  },
  {
   "cell_type": "code",
   "execution_count": 92,
   "id": "c1b32bf4",
   "metadata": {},
   "outputs": [],
   "source": [
    "res = dict(angles = [4.38,`b 0, 0]) # For the example dataset"
   ]
  },
  {
   "cell_type": "code",
   "execution_count": null,
   "id": "a309781b",
   "metadata": {},
   "outputs": [],
   "source": []
  }
 ],
 "metadata": {
  "kernelspec": {
   "display_name": "Python 3 (ipykernel)",
   "language": "python",
   "name": "python3"
  },
  "language_info": {
   "codemirror_mode": {
    "name": "ipython",
    "version": 3
   },
   "file_extension": ".py",
   "mimetype": "text/x-python",
   "name": "python",
   "nbconvert_exporter": "python",
   "pygments_lexer": "ipython3",
   "version": "3.10.6"
  }
 },
 "nbformat": 4,
 "nbformat_minor": 5
}
