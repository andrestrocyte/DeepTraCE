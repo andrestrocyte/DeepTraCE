{
 "cells": [
  {
   "cell_type": "code",
   "execution_count": 1,
   "id": "ba2ad307",
   "metadata": {},
   "outputs": [],
   "source": [
    "# use matplotlib to visualize the downsampled stack\n",
    "%matplotlib qt\n",
    "# get the stack and downsample it\n",
    "from deeptrace import *\n",
    "from deeptrace.plotting import *\n",
    "\n",
    "\n",
    "stack = BrainStack(['/home/joao/deeptrace_data/210723_NAc326F_488_s3_0_8x_13-31-25/',\n",
    "                  '/home/joao/deeptrace_data/210723_NAc326F_640_s3_0_8x_11-50-51/'])\n",
    "\n"
   ]
  },
  {
   "cell_type": "code",
   "execution_count": null,
   "id": "540712ed",
   "metadata": {},
   "outputs": [],
   "source": []
  },
  {
   "cell_type": "code",
   "execution_count": 2,
   "id": "af4fd9d1",
   "metadata": {},
   "outputs": [
    {
     "data": {
      "application/vnd.jupyter.widget-view+json": {
       "model_id": "",
       "version_major": 2,
       "version_minor": 0
      },
      "text/plain": [
       "0it [00:00, ?it/s]"
      ]
     },
     "metadata": {},
     "output_type": "display_data"
    },
    {
     "name": "stdout",
     "output_type": "stream",
     "text": [
      "Loading TRAILMAP network and model.\n"
     ]
    },
    {
     "name": "stderr",
     "output_type": "stream",
     "text": [
      "2023-03-06 19:29:21.958832: I tensorflow/core/util/util.cc:169] oneDNN custom operations are on. You may see slightly different numerical results due to floating-point round-off errors from different computation orders. To turn them off, set the environment variable `TF_ENABLE_ONEDNN_OPTS=0`.\n",
      "2023-03-06 19:29:23.561864: I tensorflow/core/platform/cpu_feature_guard.cc:193] This TensorFlow binary is optimized with oneAPI Deep Neural Network Library (oneDNN) to use the following CPU instructions in performance-critical operations:  AVX2 AVX512F AVX512_VNNI FMA\n",
      "To enable them in other operations, rebuild TensorFlow with the appropriate compiler flags.\n",
      "2023-03-06 19:29:23.993459: I tensorflow/core/common_runtime/gpu/gpu_device.cc:1532] Created device /job:localhost/replica:0/task:0/device:GPU:0 with 10029 MB memory:  -> device: 0, name: NVIDIA GeForce RTX 3080 Ti, pci bus id: 0000:68:00.0, compute capability: 8.6\n",
      "/usr/local/lib/python3.10/dist-packages/keras/optimizers/optimizer_v2/adam.py:110: UserWarning: The `lr` argument is deprecated, use `learning_rate` instead.\n",
      "  super(Adam, self).__init__(name, **kwargs)\n"
     ]
    },
    {
     "name": "stdout",
     "output_type": "stream",
     "text": [
      "Using model weight denardo_model1.hdf5\n"
     ]
    },
    {
     "name": "stderr",
     "output_type": "stream",
     "text": [
      "2023-03-06 19:29:28.408740: E tensorflow/stream_executor/cuda/cuda_dnn.cc:389] Could not create cudnn handle: CUDNN_STATUS_NOT_INITIALIZED\n",
      "2023-03-06 19:29:28.408834: E tensorflow/stream_executor/cuda/cuda_dnn.cc:398] Possibly insufficient driver version: 515.65.1\n",
      "2023-03-06 19:29:28.408892: W tensorflow/core/framework/op_kernel.cc:1745] OP_REQUIRES failed at conv_ops_3d.cc:507 : UNIMPLEMENTED: DNN library is not found.\n"
     ]
    },
    {
     "ename": "UnimplementedError",
     "evalue": "Graph execution error:\n\nDetected at node 'model/conv3d/Conv3D' defined at (most recent call last):\n    File \"/usr/lib/python3.10/runpy.py\", line 196, in _run_module_as_main\n      return _run_code(code, main_globals, None,\n    File \"/usr/lib/python3.10/runpy.py\", line 86, in _run_code\n      exec(code, run_globals)\n    File \"/usr/local/lib/python3.10/dist-packages/ipykernel-6.15.1-py3.10.egg/ipykernel_launcher.py\", line 17, in <module>\n      app.launch_new_instance()\n    File \"/usr/lib/python3/dist-packages/traitlets/config/application.py\", line 846, in launch_instance\n      app.start()\n    File \"/usr/local/lib/python3.10/dist-packages/ipykernel-6.15.1-py3.10.egg/ipykernel/kernelapp.py\", line 712, in start\n      self.io_loop.start()\n    File \"/usr/lib/python3/dist-packages/tornado/platform/asyncio.py\", line 199, in start\n      self.asyncio_loop.run_forever()\n    File \"/usr/lib/python3.10/asyncio/base_events.py\", line 600, in run_forever\n      self._run_once()\n    File \"/usr/lib/python3.10/asyncio/base_events.py\", line 1896, in _run_once\n      handle._run()\n    File \"/usr/lib/python3.10/asyncio/events.py\", line 80, in _run\n      self._context.run(self._callback, *self._args)\n    File \"/usr/local/lib/python3.10/dist-packages/ipykernel-6.15.1-py3.10.egg/ipykernel/kernelbase.py\", line 510, in dispatch_queue\n      await self.process_one()\n    File \"/usr/local/lib/python3.10/dist-packages/ipykernel-6.15.1-py3.10.egg/ipykernel/kernelbase.py\", line 499, in process_one\n      await dispatch(*args)\n    File \"/usr/local/lib/python3.10/dist-packages/ipykernel-6.15.1-py3.10.egg/ipykernel/kernelbase.py\", line 406, in dispatch_shell\n      await result\n    File \"/usr/local/lib/python3.10/dist-packages/ipykernel-6.15.1-py3.10.egg/ipykernel/kernelbase.py\", line 730, in execute_request\n      reply_content = await reply_content\n    File \"/usr/local/lib/python3.10/dist-packages/ipykernel-6.15.1-py3.10.egg/ipykernel/ipkernel.py\", line 390, in do_execute\n      res = shell.run_cell(code, store_history=store_history, silent=silent)\n    File \"/usr/local/lib/python3.10/dist-packages/ipykernel-6.15.1-py3.10.egg/ipykernel/zmqshell.py\", line 528, in run_cell\n      return super().run_cell(*args, **kwargs)\n    File \"/usr/lib/python3/dist-packages/IPython/core/interactiveshell.py\", line 2914, in run_cell\n      result = self._run_cell(\n    File \"/usr/lib/python3/dist-packages/IPython/core/interactiveshell.py\", line 2960, in _run_cell\n      return runner(coro)\n    File \"/usr/lib/python3/dist-packages/IPython/core/async_helpers.py\", line 78, in _pseudo_sync_runner\n      coro.send(None)\n    File \"/usr/lib/python3/dist-packages/IPython/core/interactiveshell.py\", line 3185, in run_cell_async\n      has_raised = await self.run_ast_nodes(code_ast.body, cell_name,\n    File \"/usr/lib/python3/dist-packages/IPython/core/interactiveshell.py\", line 3377, in run_ast_nodes\n      if (await self.run_code(code, result,  async_=asy)):\n    File \"/usr/lib/python3/dist-packages/IPython/core/interactiveshell.py\", line 3457, in run_code\n      exec(code_obj, self.user_global_ns, self.user_ns)\n    File \"/tmp/ipykernel_1692466/2539170378.py\", line 3, in <module>\n      res = stack.deeptrace_analysis(angles = [3.5,0,0],\n    File \"/home/joao/lib/DeepTraCE/gui/deeptrace/utils.py\", line 274, in deeptrace_analysis\n      trailmap_segment_tif_files(model_path, self.channel_files[trailmap_channel],\n    File \"/home/joao/lib/DeepTraCE/gui/deeptrace/utils.py\", line 438, in trailmap_segment_tif_files\n      res = trailmap_apply_model(model,arr)\n    File \"/home/joao/lib/DeepTraCE/gui/deeptrace/trailmap_models.py\", line 288, in trailmap_apply_model\n      output = np.squeeze(model.predict(batch_input)[:, :, :, :, [0]])\n    File \"/usr/local/lib/python3.10/dist-packages/keras/utils/traceback_utils.py\", line 64, in error_handler\n      return fn(*args, **kwargs)\n    File \"/usr/local/lib/python3.10/dist-packages/keras/engine/training.py\", line 2033, in predict\n      tmp_batch_outputs = self.predict_function(iterator)\n    File \"/usr/local/lib/python3.10/dist-packages/keras/engine/training.py\", line 1845, in predict_function\n      return step_function(self, iterator)\n    File \"/usr/local/lib/python3.10/dist-packages/keras/engine/training.py\", line 1834, in step_function\n      outputs = model.distribute_strategy.run(run_step, args=(data,))\n    File \"/usr/local/lib/python3.10/dist-packages/keras/engine/training.py\", line 1823, in run_step\n      outputs = model.predict_step(data)\n    File \"/usr/local/lib/python3.10/dist-packages/keras/engine/training.py\", line 1791, in predict_step\n      return self(x, training=False)\n    File \"/usr/local/lib/python3.10/dist-packages/keras/utils/traceback_utils.py\", line 64, in error_handler\n      return fn(*args, **kwargs)\n    File \"/usr/local/lib/python3.10/dist-packages/keras/engine/training.py\", line 490, in __call__\n      return super().__call__(*args, **kwargs)\n    File \"/usr/local/lib/python3.10/dist-packages/keras/utils/traceback_utils.py\", line 64, in error_handler\n      return fn(*args, **kwargs)\n    File \"/usr/local/lib/python3.10/dist-packages/keras/engine/base_layer.py\", line 1014, in __call__\n      outputs = call_fn(inputs, *args, **kwargs)\n    File \"/usr/local/lib/python3.10/dist-packages/keras/utils/traceback_utils.py\", line 92, in error_handler\n      return fn(*args, **kwargs)\n    File \"/usr/local/lib/python3.10/dist-packages/keras/engine/functional.py\", line 458, in call\n      return self._run_internal_graph(\n    File \"/usr/local/lib/python3.10/dist-packages/keras/engine/functional.py\", line 596, in _run_internal_graph\n      outputs = node.layer(*args, **kwargs)\n    File \"/usr/local/lib/python3.10/dist-packages/keras/utils/traceback_utils.py\", line 64, in error_handler\n      return fn(*args, **kwargs)\n    File \"/usr/local/lib/python3.10/dist-packages/keras/engine/base_layer.py\", line 1014, in __call__\n      outputs = call_fn(inputs, *args, **kwargs)\n    File \"/usr/local/lib/python3.10/dist-packages/keras/utils/traceback_utils.py\", line 92, in error_handler\n      return fn(*args, **kwargs)\n    File \"/usr/local/lib/python3.10/dist-packages/keras/layers/convolutional/base_conv.py\", line 250, in call\n      outputs = self.convolution_op(inputs, self.kernel)\n    File \"/usr/local/lib/python3.10/dist-packages/keras/layers/convolutional/base_conv.py\", line 225, in convolution_op\n      return tf.nn.convolution(\nNode: 'model/conv3d/Conv3D'\nDNN library is not found.\n\t [[{{node model/conv3d/Conv3D}}]] [Op:__inference_predict_function_1640]",
     "output_type": "error",
     "traceback": [
      "\u001b[0;31m---------------------------------------------------------------------------\u001b[0m",
      "\u001b[0;31mUnimplementedError\u001b[0m                        Traceback (most recent call last)",
      "\u001b[0;32m/tmp/ipykernel_1692466/2539170378.py\u001b[0m in \u001b[0;36m<module>\u001b[0;34m\u001b[0m\n\u001b[1;32m      1\u001b[0m \u001b[0;32mfrom\u001b[0m \u001b[0mtqdm\u001b[0m\u001b[0;34m.\u001b[0m\u001b[0mnotebook\u001b[0m \u001b[0;32mimport\u001b[0m \u001b[0mtqdm\u001b[0m\u001b[0;34m\u001b[0m\u001b[0;34m\u001b[0m\u001b[0m\n\u001b[1;32m      2\u001b[0m \u001b[0mpbar\u001b[0m \u001b[0;34m=\u001b[0m \u001b[0mtqdm\u001b[0m\u001b[0;34m(\u001b[0m\u001b[0;34m)\u001b[0m\u001b[0;34m\u001b[0m\u001b[0;34m\u001b[0m\u001b[0m\n\u001b[0;32m----> 3\u001b[0;31m res = stack.deeptrace_analysis(angles = [3.5,0,0],\n\u001b[0m\u001b[1;32m      4\u001b[0m                                \u001b[0mtrailmap_models\u001b[0m \u001b[0;34m=\u001b[0m \u001b[0;34m[\u001b[0m\u001b[0;34m'/home/joao/DeepTraCE/models/denardo_model1.hdf5'\u001b[0m\u001b[0;34m]\u001b[0m\u001b[0;34m,\u001b[0m\u001b[0;34m\u001b[0m\u001b[0;34m\u001b[0m\u001b[0m\n\u001b[1;32m      5\u001b[0m                                pbar = pbar)\n",
      "\u001b[0;32m~/lib/DeepTraCE/gui/deeptrace/utils.py\u001b[0m in \u001b[0;36mdeeptrace_analysis\u001b[0;34m(self, angles, trailmap_models, trailmap_channel, pbar)\u001b[0m\n\u001b[1;32m    272\u001b[0m                                      os.path.basename(os.path.abspath(self.channel_folders[0]))))\n\u001b[1;32m    273\u001b[0m             \u001b[0;32mif\u001b[0m \u001b[0;32mnot\u001b[0m \u001b[0mos\u001b[0m\u001b[0;34m.\u001b[0m\u001b[0mpath\u001b[0m\u001b[0;34m.\u001b[0m\u001b[0mexists\u001b[0m\u001b[0;34m(\u001b[0m\u001b[0mmodel_folder\u001b[0m\u001b[0;34m)\u001b[0m\u001b[0;34m:\u001b[0m\u001b[0;34m\u001b[0m\u001b[0;34m\u001b[0m\u001b[0m\n\u001b[0;32m--> 274\u001b[0;31m                 trailmap_segment_tif_files(model_path, self.channel_files[trailmap_channel],\n\u001b[0m\u001b[1;32m    275\u001b[0m                                            \u001b[0manalysis_path\u001b[0m \u001b[0;34m=\u001b[0m \u001b[0mself\u001b[0m\u001b[0;34m.\u001b[0m\u001b[0manalysis_folder\u001b[0m\u001b[0;34m,\u001b[0m\u001b[0;34m\u001b[0m\u001b[0;34m\u001b[0m\u001b[0m\n\u001b[1;32m    276\u001b[0m                                            pbar = pbar)\n",
      "\u001b[0;32m~/lib/DeepTraCE/gui/deeptrace/utils.py\u001b[0m in \u001b[0;36mtrailmap_segment_tif_files\u001b[0;34m(model_path, files, analysis_path, batch_size, threshold, pbar)\u001b[0m\n\u001b[1;32m    436\u001b[0m         \u001b[0marr\u001b[0m \u001b[0;34m=\u001b[0m \u001b[0mget_normalized_padded_input_array\u001b[0m\u001b[0;34m(\u001b[0m\u001b[0mfiles\u001b[0m\u001b[0;34m,\u001b[0m\u001b[0mchunk\u001b[0m\u001b[0;34m)\u001b[0m\u001b[0;34m\u001b[0m\u001b[0;34m\u001b[0m\u001b[0m\n\u001b[1;32m    437\u001b[0m         \u001b[0;31m# run the model\u001b[0m\u001b[0;34m\u001b[0m\u001b[0;34m\u001b[0m\u001b[0m\n\u001b[0;32m--> 438\u001b[0;31m         \u001b[0mres\u001b[0m \u001b[0;34m=\u001b[0m \u001b[0mtrailmap_apply_model\u001b[0m\u001b[0;34m(\u001b[0m\u001b[0mmodel\u001b[0m\u001b[0;34m,\u001b[0m\u001b[0marr\u001b[0m\u001b[0;34m)\u001b[0m\u001b[0;34m\u001b[0m\u001b[0;34m\u001b[0m\u001b[0m\n\u001b[0m\u001b[1;32m    439\u001b[0m         \u001b[0;31m# save the array\u001b[0m\u001b[0;34m\u001b[0m\u001b[0;34m\u001b[0m\u001b[0m\n\u001b[1;32m    440\u001b[0m         \u001b[0mwrite_res\u001b[0m\u001b[0;34m(\u001b[0m\u001b[0mres\u001b[0m\u001b[0;34m,\u001b[0m\u001b[0mchunk\u001b[0m\u001b[0;34m)\u001b[0m\u001b[0;34m\u001b[0m\u001b[0;34m\u001b[0m\u001b[0m\n",
      "\u001b[0;32m~/lib/DeepTraCE/gui/deeptrace/trailmap_models.py\u001b[0m in \u001b[0;36mtrailmap_apply_model\u001b[0;34m(model, section, threshold, batch_size)\u001b[0m\n\u001b[1;32m    286\u001b[0m         \u001b[0;31m# Once the batch is filled up run the network on the chunks\u001b[0m\u001b[0;34m\u001b[0m\u001b[0;34m\u001b[0m\u001b[0m\n\u001b[1;32m    287\u001b[0m         \u001b[0mbatch_input\u001b[0m \u001b[0;34m=\u001b[0m \u001b[0mnp\u001b[0m\u001b[0;34m.\u001b[0m\u001b[0mreshape\u001b[0m\u001b[0;34m(\u001b[0m\u001b[0mbatch_crops\u001b[0m\u001b[0;34m,\u001b[0m \u001b[0mbatch_crops\u001b[0m\u001b[0;34m.\u001b[0m\u001b[0mshape\u001b[0m \u001b[0;34m+\u001b[0m \u001b[0;34m(\u001b[0m\u001b[0;36m1\u001b[0m\u001b[0;34m,\u001b[0m\u001b[0;34m)\u001b[0m\u001b[0;34m)\u001b[0m\u001b[0;34m\u001b[0m\u001b[0;34m\u001b[0m\u001b[0m\n\u001b[0;32m--> 288\u001b[0;31m         \u001b[0moutput\u001b[0m \u001b[0;34m=\u001b[0m \u001b[0mnp\u001b[0m\u001b[0;34m.\u001b[0m\u001b[0msqueeze\u001b[0m\u001b[0;34m(\u001b[0m\u001b[0mmodel\u001b[0m\u001b[0;34m.\u001b[0m\u001b[0mpredict\u001b[0m\u001b[0;34m(\u001b[0m\u001b[0mbatch_input\u001b[0m\u001b[0;34m)\u001b[0m\u001b[0;34m[\u001b[0m\u001b[0;34m:\u001b[0m\u001b[0;34m,\u001b[0m \u001b[0;34m:\u001b[0m\u001b[0;34m,\u001b[0m \u001b[0;34m:\u001b[0m\u001b[0;34m,\u001b[0m \u001b[0;34m:\u001b[0m\u001b[0;34m,\u001b[0m \u001b[0;34m[\u001b[0m\u001b[0;36m0\u001b[0m\u001b[0;34m]\u001b[0m\u001b[0;34m]\u001b[0m\u001b[0;34m)\u001b[0m\u001b[0;34m\u001b[0m\u001b[0;34m\u001b[0m\u001b[0m\n\u001b[0m\u001b[1;32m    289\u001b[0m         \u001b[0;31m# Place the predictions in the segmentation\u001b[0m\u001b[0;34m\u001b[0m\u001b[0;34m\u001b[0m\u001b[0m\n\u001b[1;32m    290\u001b[0m         \u001b[0;32mfor\u001b[0m \u001b[0mj\u001b[0m \u001b[0;32min\u001b[0m \u001b[0mrange\u001b[0m\u001b[0;34m(\u001b[0m\u001b[0mlen\u001b[0m\u001b[0;34m(\u001b[0m\u001b[0mbatch_coords\u001b[0m\u001b[0;34m)\u001b[0m\u001b[0;34m)\u001b[0m\u001b[0;34m:\u001b[0m\u001b[0;34m\u001b[0m\u001b[0;34m\u001b[0m\u001b[0m\n",
      "\u001b[0;32m/usr/local/lib/python3.10/dist-packages/keras/utils/traceback_utils.py\u001b[0m in \u001b[0;36merror_handler\u001b[0;34m(*args, **kwargs)\u001b[0m\n\u001b[1;32m     65\u001b[0m     \u001b[0;32mexcept\u001b[0m \u001b[0mException\u001b[0m \u001b[0;32mas\u001b[0m \u001b[0me\u001b[0m\u001b[0;34m:\u001b[0m  \u001b[0;31m# pylint: disable=broad-except\u001b[0m\u001b[0;34m\u001b[0m\u001b[0;34m\u001b[0m\u001b[0m\n\u001b[1;32m     66\u001b[0m       \u001b[0mfiltered_tb\u001b[0m \u001b[0;34m=\u001b[0m \u001b[0m_process_traceback_frames\u001b[0m\u001b[0;34m(\u001b[0m\u001b[0me\u001b[0m\u001b[0;34m.\u001b[0m\u001b[0m__traceback__\u001b[0m\u001b[0;34m)\u001b[0m\u001b[0;34m\u001b[0m\u001b[0;34m\u001b[0m\u001b[0m\n\u001b[0;32m---> 67\u001b[0;31m       \u001b[0;32mraise\u001b[0m \u001b[0me\u001b[0m\u001b[0;34m.\u001b[0m\u001b[0mwith_traceback\u001b[0m\u001b[0;34m(\u001b[0m\u001b[0mfiltered_tb\u001b[0m\u001b[0;34m)\u001b[0m \u001b[0;32mfrom\u001b[0m \u001b[0;32mNone\u001b[0m\u001b[0;34m\u001b[0m\u001b[0;34m\u001b[0m\u001b[0m\n\u001b[0m\u001b[1;32m     68\u001b[0m     \u001b[0;32mfinally\u001b[0m\u001b[0;34m:\u001b[0m\u001b[0;34m\u001b[0m\u001b[0;34m\u001b[0m\u001b[0m\n\u001b[1;32m     69\u001b[0m       \u001b[0;32mdel\u001b[0m \u001b[0mfiltered_tb\u001b[0m\u001b[0;34m\u001b[0m\u001b[0;34m\u001b[0m\u001b[0m\n",
      "\u001b[0;32m/usr/local/lib/python3.10/dist-packages/tensorflow/python/eager/execute.py\u001b[0m in \u001b[0;36mquick_execute\u001b[0;34m(op_name, num_outputs, inputs, attrs, ctx, name)\u001b[0m\n\u001b[1;32m     52\u001b[0m   \u001b[0;32mtry\u001b[0m\u001b[0;34m:\u001b[0m\u001b[0;34m\u001b[0m\u001b[0;34m\u001b[0m\u001b[0m\n\u001b[1;32m     53\u001b[0m     \u001b[0mctx\u001b[0m\u001b[0;34m.\u001b[0m\u001b[0mensure_initialized\u001b[0m\u001b[0;34m(\u001b[0m\u001b[0;34m)\u001b[0m\u001b[0;34m\u001b[0m\u001b[0;34m\u001b[0m\u001b[0m\n\u001b[0;32m---> 54\u001b[0;31m     tensors = pywrap_tfe.TFE_Py_Execute(ctx._handle, device_name, op_name,\n\u001b[0m\u001b[1;32m     55\u001b[0m                                         inputs, attrs, num_outputs)\n\u001b[1;32m     56\u001b[0m   \u001b[0;32mexcept\u001b[0m \u001b[0mcore\u001b[0m\u001b[0;34m.\u001b[0m\u001b[0m_NotOkStatusException\u001b[0m \u001b[0;32mas\u001b[0m \u001b[0me\u001b[0m\u001b[0;34m:\u001b[0m\u001b[0;34m\u001b[0m\u001b[0;34m\u001b[0m\u001b[0m\n",
      "\u001b[0;31mUnimplementedError\u001b[0m: Graph execution error:\n\nDetected at node 'model/conv3d/Conv3D' defined at (most recent call last):\n    File \"/usr/lib/python3.10/runpy.py\", line 196, in _run_module_as_main\n      return _run_code(code, main_globals, None,\n    File \"/usr/lib/python3.10/runpy.py\", line 86, in _run_code\n      exec(code, run_globals)\n    File \"/usr/local/lib/python3.10/dist-packages/ipykernel-6.15.1-py3.10.egg/ipykernel_launcher.py\", line 17, in <module>\n      app.launch_new_instance()\n    File \"/usr/lib/python3/dist-packages/traitlets/config/application.py\", line 846, in launch_instance\n      app.start()\n    File \"/usr/local/lib/python3.10/dist-packages/ipykernel-6.15.1-py3.10.egg/ipykernel/kernelapp.py\", line 712, in start\n      self.io_loop.start()\n    File \"/usr/lib/python3/dist-packages/tornado/platform/asyncio.py\", line 199, in start\n      self.asyncio_loop.run_forever()\n    File \"/usr/lib/python3.10/asyncio/base_events.py\", line 600, in run_forever\n      self._run_once()\n    File \"/usr/lib/python3.10/asyncio/base_events.py\", line 1896, in _run_once\n      handle._run()\n    File \"/usr/lib/python3.10/asyncio/events.py\", line 80, in _run\n      self._context.run(self._callback, *self._args)\n    File \"/usr/local/lib/python3.10/dist-packages/ipykernel-6.15.1-py3.10.egg/ipykernel/kernelbase.py\", line 510, in dispatch_queue\n      await self.process_one()\n    File \"/usr/local/lib/python3.10/dist-packages/ipykernel-6.15.1-py3.10.egg/ipykernel/kernelbase.py\", line 499, in process_one\n      await dispatch(*args)\n    File \"/usr/local/lib/python3.10/dist-packages/ipykernel-6.15.1-py3.10.egg/ipykernel/kernelbase.py\", line 406, in dispatch_shell\n      await result\n    File \"/usr/local/lib/python3.10/dist-packages/ipykernel-6.15.1-py3.10.egg/ipykernel/kernelbase.py\", line 730, in execute_request\n      reply_content = await reply_content\n    File \"/usr/local/lib/python3.10/dist-packages/ipykernel-6.15.1-py3.10.egg/ipykernel/ipkernel.py\", line 390, in do_execute\n      res = shell.run_cell(code, store_history=store_history, silent=silent)\n    File \"/usr/local/lib/python3.10/dist-packages/ipykernel-6.15.1-py3.10.egg/ipykernel/zmqshell.py\", line 528, in run_cell\n      return super().run_cell(*args, **kwargs)\n    File \"/usr/lib/python3/dist-packages/IPython/core/interactiveshell.py\", line 2914, in run_cell\n      result = self._run_cell(\n    File \"/usr/lib/python3/dist-packages/IPython/core/interactiveshell.py\", line 2960, in _run_cell\n      return runner(coro)\n    File \"/usr/lib/python3/dist-packages/IPython/core/async_helpers.py\", line 78, in _pseudo_sync_runner\n      coro.send(None)\n    File \"/usr/lib/python3/dist-packages/IPython/core/interactiveshell.py\", line 3185, in run_cell_async\n      has_raised = await self.run_ast_nodes(code_ast.body, cell_name,\n    File \"/usr/lib/python3/dist-packages/IPython/core/interactiveshell.py\", line 3377, in run_ast_nodes\n      if (await self.run_code(code, result,  async_=asy)):\n    File \"/usr/lib/python3/dist-packages/IPython/core/interactiveshell.py\", line 3457, in run_code\n      exec(code_obj, self.user_global_ns, self.user_ns)\n    File \"/tmp/ipykernel_1692466/2539170378.py\", line 3, in <module>\n      res = stack.deeptrace_analysis(angles = [3.5,0,0],\n    File \"/home/joao/lib/DeepTraCE/gui/deeptrace/utils.py\", line 274, in deeptrace_analysis\n      trailmap_segment_tif_files(model_path, self.channel_files[trailmap_channel],\n    File \"/home/joao/lib/DeepTraCE/gui/deeptrace/utils.py\", line 438, in trailmap_segment_tif_files\n      res = trailmap_apply_model(model,arr)\n    File \"/home/joao/lib/DeepTraCE/gui/deeptrace/trailmap_models.py\", line 288, in trailmap_apply_model\n      output = np.squeeze(model.predict(batch_input)[:, :, :, :, [0]])\n    File \"/usr/local/lib/python3.10/dist-packages/keras/utils/traceback_utils.py\", line 64, in error_handler\n      return fn(*args, **kwargs)\n    File \"/usr/local/lib/python3.10/dist-packages/keras/engine/training.py\", line 2033, in predict\n      tmp_batch_outputs = self.predict_function(iterator)\n    File \"/usr/local/lib/python3.10/dist-packages/keras/engine/training.py\", line 1845, in predict_function\n      return step_function(self, iterator)\n    File \"/usr/local/lib/python3.10/dist-packages/keras/engine/training.py\", line 1834, in step_function\n      outputs = model.distribute_strategy.run(run_step, args=(data,))\n    File \"/usr/local/lib/python3.10/dist-packages/keras/engine/training.py\", line 1823, in run_step\n      outputs = model.predict_step(data)\n    File \"/usr/local/lib/python3.10/dist-packages/keras/engine/training.py\", line 1791, in predict_step\n      return self(x, training=False)\n    File \"/usr/local/lib/python3.10/dist-packages/keras/utils/traceback_utils.py\", line 64, in error_handler\n      return fn(*args, **kwargs)\n    File \"/usr/local/lib/python3.10/dist-packages/keras/engine/training.py\", line 490, in __call__\n      return super().__call__(*args, **kwargs)\n    File \"/usr/local/lib/python3.10/dist-packages/keras/utils/traceback_utils.py\", line 64, in error_handler\n      return fn(*args, **kwargs)\n    File \"/usr/local/lib/python3.10/dist-packages/keras/engine/base_layer.py\", line 1014, in __call__\n      outputs = call_fn(inputs, *args, **kwargs)\n    File \"/usr/local/lib/python3.10/dist-packages/keras/utils/traceback_utils.py\", line 92, in error_handler\n      return fn(*args, **kwargs)\n    File \"/usr/local/lib/python3.10/dist-packages/keras/engine/functional.py\", line 458, in call\n      return self._run_internal_graph(\n    File \"/usr/local/lib/python3.10/dist-packages/keras/engine/functional.py\", line 596, in _run_internal_graph\n      outputs = node.layer(*args, **kwargs)\n    File \"/usr/local/lib/python3.10/dist-packages/keras/utils/traceback_utils.py\", line 64, in error_handler\n      return fn(*args, **kwargs)\n    File \"/usr/local/lib/python3.10/dist-packages/keras/engine/base_layer.py\", line 1014, in __call__\n      outputs = call_fn(inputs, *args, **kwargs)\n    File \"/usr/local/lib/python3.10/dist-packages/keras/utils/traceback_utils.py\", line 92, in error_handler\n      return fn(*args, **kwargs)\n    File \"/usr/local/lib/python3.10/dist-packages/keras/layers/convolutional/base_conv.py\", line 250, in call\n      outputs = self.convolution_op(inputs, self.kernel)\n    File \"/usr/local/lib/python3.10/dist-packages/keras/layers/convolutional/base_conv.py\", line 225, in convolution_op\n      return tf.nn.convolution(\nNode: 'model/conv3d/Conv3D'\nDNN library is not found.\n\t [[{{node model/conv3d/Conv3D}}]] [Op:__inference_predict_function_1640]"
     ]
    }
   ],
   "source": [
    "from tqdm.notebook import tqdm\n",
    "pbar = tqdm()\n",
    "res = stack.deeptrace_analysis(angles = [3.5,0,0],\n",
    "                               trailmap_models = ['/home/joao/DeepTraCE/models/denardo_model1.hdf5'],\n",
    "                               pbar = pbar)\n",
    "pbar.close()"
   ]
  },
  {
   "cell_type": "code",
   "execution_count": 7,
   "id": "91e3f6e1",
   "metadata": {},
   "outputs": [
    {
     "data": {
      "text/plain": [
       "environ{'SHELL': '/bin/bash',\n",
       "        'QT_ACCESSIBILITY': '1',\n",
       "        'COLORTERM': 'truecolor',\n",
       "        'PULSE_CONFIG_PATH': '/home/joao/.config/chrome-remote-desktop/pulseaudio#6b7737dd87',\n",
       "        'XDG_CONFIG_DIRS': '/etc/xdg/xdg-xfce:/etc/xdg',\n",
       "        'XDG_SESSION_PATH': '/org/freedesktop/DisplayManager/Session0',\n",
       "        'GTK_IM_MODULE': 'ibus',\n",
       "        'PULSE_RUNTIME_PATH': '/home/joao/.config/chrome-remote-desktop/pulseaudio#6b7737dd87',\n",
       "        'LANGUAGE': 'en',\n",
       "        'SSH_AUTH_SOCK': '/tmp/ssh-XXXXXXt3cs9C/agent.9875',\n",
       "        'XMODIFIERS': '@im=ibus',\n",
       "        'DESKTOP_SESSION': 'xfce',\n",
       "        'PWD': '/home/joao/lib/DeepTraCE',\n",
       "        'LOGNAME': 'joao',\n",
       "        'XDG_SESSION_DESKTOP': 'xfce',\n",
       "        'XDG_SESSION_TYPE': 'x11',\n",
       "        'CHROME_CONFIG_HOME': '/home/joao/.config/chrome-remote-desktop/chrome-config',\n",
       "        'GPG_AGENT_INFO': '/run/user/1001/gnupg/S.gpg-agent:0:1',\n",
       "        'SYSTEMD_EXEC_PID': '3483600',\n",
       "        'XAUTHORITY': '/home/joao/.Xauthority',\n",
       "        'XDG_GREETER_DATA_DIR': '/var/lib/lightdm-data/joao',\n",
       "        'GDM_LANG': 'en',\n",
       "        'PULSE_SINK': 'chrome_remote_desktop_session',\n",
       "        'HOME': '/home/joao',\n",
       "        'IM_CONFIG_PHASE': '1',\n",
       "        'LANG': 'en_US.UTF-8',\n",
       "        'LS_COLORS': 'rs=0:di=01;34:ln=01;36:mh=00:pi=40;33:so=01;35:do=01;35:bd=40;33;01:cd=40;33;01:or=40;31;01:mi=00:su=37;41:sg=30;43:ca=30;41:tw=30;42:ow=34;42:st=37;44:ex=01;32:*.tar=01;31:*.tgz=01;31:*.arc=01;31:*.arj=01;31:*.taz=01;31:*.lha=01;31:*.lz4=01;31:*.lzh=01;31:*.lzma=01;31:*.tlz=01;31:*.txz=01;31:*.tzo=01;31:*.t7z=01;31:*.zip=01;31:*.z=01;31:*.dz=01;31:*.gz=01;31:*.lrz=01;31:*.lz=01;31:*.lzo=01;31:*.xz=01;31:*.zst=01;31:*.tzst=01;31:*.bz2=01;31:*.bz=01;31:*.tbz=01;31:*.tbz2=01;31:*.tz=01;31:*.deb=01;31:*.rpm=01;31:*.jar=01;31:*.war=01;31:*.ear=01;31:*.sar=01;31:*.rar=01;31:*.alz=01;31:*.ace=01;31:*.zoo=01;31:*.cpio=01;31:*.7z=01;31:*.rz=01;31:*.cab=01;31:*.wim=01;31:*.swm=01;31:*.dwm=01;31:*.esd=01;31:*.jpg=01;35:*.jpeg=01;35:*.mjpg=01;35:*.mjpeg=01;35:*.gif=01;35:*.bmp=01;35:*.pbm=01;35:*.pgm=01;35:*.ppm=01;35:*.tga=01;35:*.xbm=01;35:*.xpm=01;35:*.tif=01;35:*.tiff=01;35:*.png=01;35:*.svg=01;35:*.svgz=01;35:*.mng=01;35:*.pcx=01;35:*.mov=01;35:*.mpg=01;35:*.mpeg=01;35:*.m2v=01;35:*.mkv=01;35:*.webm=01;35:*.webp=01;35:*.ogm=01;35:*.mp4=01;35:*.m4v=01;35:*.mp4v=01;35:*.vob=01;35:*.qt=01;35:*.nuv=01;35:*.wmv=01;35:*.asf=01;35:*.rm=01;35:*.rmvb=01;35:*.flc=01;35:*.avi=01;35:*.fli=01;35:*.flv=01;35:*.gl=01;35:*.dl=01;35:*.xcf=01;35:*.xwd=01;35:*.yuv=01;35:*.cgm=01;35:*.emf=01;35:*.ogv=01;35:*.ogx=01;35:*.aac=00;36:*.au=00;36:*.flac=00;36:*.m4a=00;36:*.mid=00;36:*.midi=00;36:*.mka=00;36:*.mp3=00;36:*.mpc=00;36:*.ogg=00;36:*.ra=00;36:*.wav=00;36:*.oga=00;36:*.opus=00;36:*.spx=00;36:*.xspf=00;36:',\n",
       "        'XDG_CURRENT_DESKTOP': 'XFCE',\n",
       "        'VTE_VERSION': '6800',\n",
       "        'XDG_SEAT_PATH': '/org/freedesktop/DisplayManager/Seat0',\n",
       "        'GNOME_TERMINAL_SCREEN': '/org/gnome/Terminal/screen/3ef1883a_5bab_46da_be00_c6de73c0bbd1',\n",
       "        'PULSE_STATE_PATH': '/home/joao/.config/chrome-remote-desktop/pulseaudio#6b7737dd87',\n",
       "        'CLUTTER_IM_MODULE': 'ibus',\n",
       "        'CHROME_REMOTE_DESKTOP_SESSION': '1',\n",
       "        'LESSCLOSE': '/usr/bin/lesspipe %s %s',\n",
       "        'XDG_SESSION_CLASS': 'user',\n",
       "        'TERM': 'xterm-color',\n",
       "        'XAUTHLOCALHOSTNAME': '',\n",
       "        'LESSOPEN': '| /usr/bin/lesspipe %s',\n",
       "        'USER': 'joao',\n",
       "        'GNOME_TERMINAL_SERVICE': ':1.397',\n",
       "        'DISPLAY': ':21',\n",
       "        'SHLVL': '1',\n",
       "        'QT_IM_MODULE': 'ibus',\n",
       "        'LD_LIBRARY_PATH': '/usr/lib/mesa-diverted/x86_64-linux-gnu:/usr/lib/x86_64-linux-gnu/mesa:/usr/lib/x86_64-linux-gnu/dri:/usr/lib/x86_64-linux-gnu/gallium-pipe',\n",
       "        'XDG_RUNTIME_DIR': '/run/user/1001',\n",
       "        'XDG_DATA_DIRS': '/usr/share/xfce4:/usr/share/gnome:/usr/local/share:/usr/share:/var/lib/snapd/desktop',\n",
       "        'GDK_BACKEND': 'x11',\n",
       "        'PATH': '/home/joao/.local/bin:/usr/local/cuda/bin:/usr/local/sbin:/usr/local/bin:/usr/sbin:/usr/bin:/sbin:/bin:/usr/games:/usr/local/games:/snap/bin',\n",
       "        'GDMSESSION': 'xfce',\n",
       "        'DBUS_SESSION_BUS_ADDRESS': 'unix:path=/run/user/1001/bus',\n",
       "        '_': '/usr/local/bin/jupyter',\n",
       "        'OLDPWD': '/home/joao/lib',\n",
       "        'JPY_PARENT_PID': '1608492',\n",
       "        'CLICOLOR': '1',\n",
       "        'PAGER': 'cat',\n",
       "        'GIT_PAGER': 'cat',\n",
       "        'MPLBACKEND': 'module://matplotlib_inline.backend_inline',\n",
       "        'QT_API': 'pyqt5',\n",
       "        'TF2_BEHAVIOR': '1'}"
      ]
     },
     "execution_count": 7,
     "metadata": {},
     "output_type": "execute_result"
    }
   ],
   "source": []
  },
  {
   "cell_type": "code",
   "execution_count": 2,
   "id": "441b7d2c",
   "metadata": {},
   "outputs": [],
   "source": [
    "\n",
    "\n",
    "# Discover the angles using the blood vessels.\n",
    "res = interact_find_angles(raw.downsampled_data[0]);"
   ]
  },
  {
   "cell_type": "code",
   "execution_count": 3,
   "id": "a0bd4356",
   "metadata": {},
   "outputs": [
    {
     "data": {
      "text/plain": [
       "{'x': array([[nan, nan, nan],\n",
       "        [nan, nan, nan]], dtype=float32),\n",
       " 'y': array([[nan, nan, nan],\n",
       "        [nan, nan, nan]], dtype=float32),\n",
       " 'z': array([[293., 727., 474.],\n",
       "        [146., 415., 450.]], dtype=float32),\n",
       " 'angles': [4.398705, 0, 0]}"
      ]
     },
     "execution_count": 3,
     "metadata": {},
     "output_type": "execute_result"
    }
   ],
   "source": [
    "res"
   ]
  },
  {
   "cell_type": "code",
   "execution_count": 4,
   "id": "6ec0b932",
   "metadata": {},
   "outputs": [],
   "source": [
    "# Apply the transform to the stack\n",
    "Y = rotate_stack(raw.downsampled_data[0],\n",
    "                 *res['angles'])\n",
    "interact_show_stack(Y)"
   ]
  },
  {
   "cell_type": "code",
   "execution_count": 2,
   "id": "8dfe946b",
   "metadata": {},
   "outputs": [],
   "source": [
    "res = dict(angles = [4.38, 0, 0]) # For the example dataset"
   ]
  },
  {
   "cell_type": "code",
   "execution_count": 5,
   "id": "64694183",
   "metadata": {},
   "outputs": [
    {
     "data": {
      "application/vnd.jupyter.widget-view+json": {
       "model_id": "1f37780fa4a94b08b884fcdcc0e75fed",
       "version_major": 2,
       "version_minor": 0
      },
      "text/plain": [
       "0it [00:00, ?it/s]"
      ]
     },
     "metadata": {},
     "output_type": "display_data"
    },
    {
     "name": "stderr",
     "output_type": "stream",
     "text": [
      "TIFFReadDirectory: Warning, Unknown field with tag 50838 (0xc696) encountered.\n",
      "TIFFReadDirectory: Warning, Unknown field with tag 50839 (0xc697) encountered.\n",
      "TIFFReadDirectory: Warning, Unknown field with tag 50838 (0xc696) encountered.\n",
      "TIFFReadDirectory: Warning, Unknown field with tag 50839 (0xc697) encountered.\n",
      "TIFFReadDirectory: Warning, Unknown field with tag 50838 (0xc696) encountered.\n",
      "TIFFReadDirectory: Warning, Unknown field with tag 50839 (0xc697) encountered.\n",
      "TIFFReadDirectory: Warning, Unknown field with tag 50838 (0xc696) encountered.\n",
      "TIFFReadDirectory: Warning, Unknown field with tag 50839 (0xc697) encountered.\n",
      "TIFFReadDirectory: Warning, Unknown field with tag 50838 (0xc696) encountered.\n",
      "TIFFReadDirectory: Warning, Unknown field with tag 50839 (0xc697) encountered.\n",
      "TIFFReadDirectory: Warning, Unknown field with tag 50838 (0xc696) encountered.\n",
      "TIFFReadDirectory: Warning, Unknown field with tag 50839 (0xc697) encountered.\n"
     ]
    }
   ],
   "source": [
    "from deeptrace.elastix_utils import *\n",
    "pbar = tqdm()\n",
    "X,a = elastix_fit(Y,pbar = pbar)\n",
    "pbar.close()"
   ]
  },
  {
   "cell_type": "code",
   "execution_count": 16,
   "id": "0fb60627",
   "metadata": {},
   "outputs": [],
   "source": []
  },
  {
   "cell_type": "code",
   "execution_count": 57,
   "id": "873ff650",
   "metadata": {},
   "outputs": [],
   "source": [
    "tmp = np.unique(data)\n",
    "ndata = np.zeros_like(data,dtype='uint8')\n",
    "for i,t in enumerate(tmp):\n",
    "    ndata[data == t] = i"
   ]
  },
  {
   "cell_type": "code",
   "execution_count": 59,
   "id": "bde906cd",
   "metadata": {},
   "outputs": [
    {
     "ename": "ValueError",
     "evalue": "cannot convert float NaN to integer",
     "output_type": "error",
     "traceback": [
      "\u001b[0;31m---------------------------------------------------------------------------\u001b[0m",
      "\u001b[0;31mValueError\u001b[0m                                Traceback (most recent call last)",
      "\u001b[0;32m/tmp/ipykernel_3335171/3589862125.py\u001b[0m in \u001b[0;36m<module>\u001b[0;34m\u001b[0m\n\u001b[0;32m----> 1\u001b[0;31m \u001b[0mndata\u001b[0m\u001b[0;34m[\u001b[0m\u001b[0mndata\u001b[0m\u001b[0;34m==\u001b[0m\u001b[0;36m0\u001b[0m\u001b[0;34m]\u001b[0m \u001b[0;34m=\u001b[0m \u001b[0mnp\u001b[0m\u001b[0;34m.\u001b[0m\u001b[0mnan\u001b[0m\u001b[0;34m\u001b[0m\u001b[0;34m\u001b[0m\u001b[0m\n\u001b[0m",
      "\u001b[0;31mValueError\u001b[0m: cannot convert float NaN to integer"
     ]
    }
   ],
   "source": [
    "ndata[ndata==0] = np.nan"
   ]
  },
  {
   "cell_type": "code",
   "execution_count": 160,
   "id": "42f27e22",
   "metadata": {},
   "outputs": [],
   "source": [
    "\n",
    "atlas, header = nrrd.read('/home/joao/DeepTraCE/registration/annotation_10_lsfm_collapse_crop_flip_newf.nrrd')\n",
    "atlas = atlas.transpose([2,1,0])\n",
    "im = imread('/home/joao/DeepTraCE/temp/result.tiff')\n",
    "orig = imread('/home/joao/DeepTraCE/registration/average_template_lsfm_10_crop_flip.tif')\n"
   ]
  },
  {
   "cell_type": "code",
   "execution_count": 159,
   "id": "ad535ba5",
   "metadata": {},
   "outputs": [
    {
     "data": {
      "text/plain": [
       "((808, 1137, 579), (579, 1137, 808), (579, 1137, 808))"
      ]
     },
     "execution_count": 159,
     "metadata": {},
     "output_type": "execute_result"
    }
   ],
   "source": []
  },
  {
   "cell_type": "code",
   "execution_count": 165,
   "id": "5fb6f5ef",
   "metadata": {},
   "outputs": [],
   "source": [
    "\n",
    "from skimage.measure import find_contours\n",
    "from skimage.feature import canny\n",
    "\n"
   ]
  },
  {
   "cell_type": "code",
   "execution_count": 203,
   "id": "692b4977",
   "metadata": {},
   "outputs": [
    {
     "data": {
      "text/plain": [
       "<matplotlib.image.AxesImage at 0x7f0807545c30>"
      ]
     },
     "execution_count": 203,
     "metadata": {},
     "output_type": "execute_result"
    }
   ],
   "source": [
    "isel = 300\n",
    "plt.figure()\n",
    "edg = canny(atlas[isel,:,:],sigma = 3).astype(np.float32)\n",
    "from skimage import morphology\n",
    "edg = morphology.dilation(edg)\n",
    "# edg[edg == 0] = np.nan\n",
    "# plt.imshow(orig[isel,:,:],cmap='Greens')\n",
    "plt.imshow(im[isel,:,:],cmap='gray')\n",
    "plt.imshow(edg,cmap = cmap1,alpha = 0.5) #im[isel])\n",
    "# for cc in c:\n",
    "#     plt.plot(cc[:,1],cc[:,0],'w')"
   ]
  },
  {
   "cell_type": "code",
   "execution_count": 198,
   "id": "c067e2e7",
   "metadata": {},
   "outputs": [],
   "source": []
  },
  {
   "cell_type": "code",
   "execution_count": 202,
   "id": "d4d9954c",
   "metadata": {},
   "outputs": [],
   "source": [
    "from skimage import morphology,feature\n",
    "\n",
    "def interact_stack_overlay_areas(X,atlas, cmap = 'gray',clim = None,overlay_color = 'yellow'):\n",
    "    '''\n",
    "    Interactive stack plot using matplotlib\n",
    "       - left arrow or \"a\" key (decrease slice)\n",
    "       - right arrow or \"d\" key (increase slice)\n",
    "\n",
    "    Example:\n",
    "\n",
    "       - Y is a SLICESxHxW array\n",
    "\n",
    "    '''\n",
    "    from matplotlib.widgets import Slider\n",
    "    fig = plt.figure()\n",
    "    fig.clf()\n",
    "    ax = fig.add_axes([0,0,1,1])\n",
    "    iframe = len(X)//2\n",
    "    def get_edges(iframe):\n",
    "        edg = feature.canny(atlas[:,:,iframe],sigma = 3)\n",
    "        return morphology.dilation(edg).astype(bool)\n",
    "    \n",
    "    cm1 = plt.matplotlib.colors.ListedColormap(['none', overlay_color])\n",
    "\n",
    "    im = plt.imshow(X[:,:,iframe],\n",
    "                    aspect = 'auto',\n",
    "                    clim=clim,\n",
    "                   cmap = cmap)\n",
    "    ed = plt.imshow(get_edges(iframe),cmap = cm1) \n",
    "\n",
    "    txt = plt.text(0,0,iframe,color = 'w',va = 'top')\n",
    "    sliderax = fig.add_axes([0.01, 0.01, 0.15, 0.01])\n",
    "    islide = Slider(sliderax,\n",
    "                    'slice #',\n",
    "                    valmin=0,\n",
    "                    valmax=len(X)-1,\n",
    "                    valstep=1,\n",
    "                    initcolor='w',\n",
    "                    valinit = len(X)//2)\n",
    "    def update(val):\n",
    "        if not type(val) in [float,int,np.int64,np.float64]:\n",
    "            if val.key in ['right','d']:\n",
    "                islide.set_val(np.clip(islide.val + 1,0,len(X)-1))\n",
    "            elif val.key in ['left','a']:\n",
    "                islide.set_val(np.clip(islide.val - 1,0,len(X)-1))\n",
    "        f = int(np.floor(islide.val))\n",
    "        im.set_data(X[:,:,f])\n",
    "        ed.set_data(get_edges(f))\n",
    "        txt.set_text(f)\n",
    "    islide.on_changed(update)\n",
    "    fig.canvas.mpl_connect('key_press_event', update)\n",
    "    return \n",
    "interact_stack_overlay_areas(im,atlas)"
   ]
  },
  {
   "cell_type": "code",
   "execution_count": 73,
   "id": "e85999b9",
   "metadata": {},
   "outputs": [
    {
     "data": {
      "text/html": [
       "<div>\n",
       "<style scoped>\n",
       "    .dataframe tbody tr th:only-of-type {\n",
       "        vertical-align: middle;\n",
       "    }\n",
       "\n",
       "    .dataframe tbody tr th {\n",
       "        vertical-align: top;\n",
       "    }\n",
       "\n",
       "    .dataframe thead th {\n",
       "        text-align: right;\n",
       "    }\n",
       "</style>\n",
       "<table border=\"1\" class=\"dataframe\">\n",
       "  <thead>\n",
       "    <tr style=\"text-align: right;\">\n",
       "      <th></th>\n",
       "      <th>id</th>\n",
       "      <th>atlas_id</th>\n",
       "      <th>name</th>\n",
       "      <th>acronym</th>\n",
       "      <th>st_level</th>\n",
       "      <th>ontology_id</th>\n",
       "      <th>hemisphere_id</th>\n",
       "      <th>weight</th>\n",
       "      <th>parent_structure_id</th>\n",
       "      <th>depth</th>\n",
       "      <th>...</th>\n",
       "      <th>structure_id_path</th>\n",
       "      <th>color_hex_triplet</th>\n",
       "      <th>neuro_name_structure_id</th>\n",
       "      <th>neuro_name_structure_id_path</th>\n",
       "      <th>failed</th>\n",
       "      <th>sphinx_id</th>\n",
       "      <th>structure_name_facet</th>\n",
       "      <th>failed_facet</th>\n",
       "      <th>safe_name</th>\n",
       "      <th>main_parent</th>\n",
       "    </tr>\n",
       "  </thead>\n",
       "  <tbody>\n",
       "    <tr>\n",
       "      <th>0</th>\n",
       "      <td>997</td>\n",
       "      <td>-1.0</td>\n",
       "      <td>root</td>\n",
       "      <td>root</td>\n",
       "      <td>0</td>\n",
       "      <td>1</td>\n",
       "      <td>3</td>\n",
       "      <td>8690</td>\n",
       "      <td>NaN</td>\n",
       "      <td>0</td>\n",
       "      <td>...</td>\n",
       "      <td>/997/</td>\n",
       "      <td>FFFFFF</td>\n",
       "      <td>NaN</td>\n",
       "      <td>NaN</td>\n",
       "      <td>f</td>\n",
       "      <td>1</td>\n",
       "      <td>385153371</td>\n",
       "      <td>734881840</td>\n",
       "      <td>root</td>\n",
       "      <td>r</td>\n",
       "    </tr>\n",
       "    <tr>\n",
       "      <th>1</th>\n",
       "      <td>8</td>\n",
       "      <td>0.0</td>\n",
       "      <td>Basic cell groups and regions</td>\n",
       "      <td>grey</td>\n",
       "      <td>1</td>\n",
       "      <td>1</td>\n",
       "      <td>3</td>\n",
       "      <td>8690</td>\n",
       "      <td>997.0</td>\n",
       "      <td>1</td>\n",
       "      <td>...</td>\n",
       "      <td>/997/8/</td>\n",
       "      <td>BFDAE3</td>\n",
       "      <td>NaN</td>\n",
       "      <td>NaN</td>\n",
       "      <td>f</td>\n",
       "      <td>2</td>\n",
       "      <td>2244697386</td>\n",
       "      <td>734881840</td>\n",
       "      <td>Basic cell groups and regions</td>\n",
       "      <td>r</td>\n",
       "    </tr>\n",
       "    <tr>\n",
       "      <th>2</th>\n",
       "      <td>567</td>\n",
       "      <td>70.0</td>\n",
       "      <td>Cerebrum</td>\n",
       "      <td>CH</td>\n",
       "      <td>2</td>\n",
       "      <td>1</td>\n",
       "      <td>3</td>\n",
       "      <td>8690</td>\n",
       "      <td>8.0</td>\n",
       "      <td>2</td>\n",
       "      <td>...</td>\n",
       "      <td>/997/8/567/</td>\n",
       "      <td>B0F0FF</td>\n",
       "      <td>NaN</td>\n",
       "      <td>NaN</td>\n",
       "      <td>f</td>\n",
       "      <td>3</td>\n",
       "      <td>2878815794</td>\n",
       "      <td>734881840</td>\n",
       "      <td>Cerebrum</td>\n",
       "      <td>r</td>\n",
       "    </tr>\n",
       "    <tr>\n",
       "      <th>3</th>\n",
       "      <td>688</td>\n",
       "      <td>85.0</td>\n",
       "      <td>Cerebral cortex</td>\n",
       "      <td>CTX</td>\n",
       "      <td>3</td>\n",
       "      <td>1</td>\n",
       "      <td>3</td>\n",
       "      <td>8690</td>\n",
       "      <td>567.0</td>\n",
       "      <td>3</td>\n",
       "      <td>...</td>\n",
       "      <td>/997/8/567/688/</td>\n",
       "      <td>B0FFB8</td>\n",
       "      <td>NaN</td>\n",
       "      <td>NaN</td>\n",
       "      <td>f</td>\n",
       "      <td>4</td>\n",
       "      <td>3591311804</td>\n",
       "      <td>734881840</td>\n",
       "      <td>Cerebral cortex</td>\n",
       "      <td>r</td>\n",
       "    </tr>\n",
       "    <tr>\n",
       "      <th>4</th>\n",
       "      <td>695</td>\n",
       "      <td>86.0</td>\n",
       "      <td>Cortical plate</td>\n",
       "      <td>CTXpl</td>\n",
       "      <td>4</td>\n",
       "      <td>1</td>\n",
       "      <td>3</td>\n",
       "      <td>8690</td>\n",
       "      <td>688.0</td>\n",
       "      <td>4</td>\n",
       "      <td>...</td>\n",
       "      <td>/997/8/567/688/695/</td>\n",
       "      <td>70FF70</td>\n",
       "      <td>NaN</td>\n",
       "      <td>NaN</td>\n",
       "      <td>f</td>\n",
       "      <td>5</td>\n",
       "      <td>3945900931</td>\n",
       "      <td>734881840</td>\n",
       "      <td>Cortical plate</td>\n",
       "      <td>r</td>\n",
       "    </tr>\n",
       "    <tr>\n",
       "      <th>...</th>\n",
       "      <td>...</td>\n",
       "      <td>...</td>\n",
       "      <td>...</td>\n",
       "      <td>...</td>\n",
       "      <td>...</td>\n",
       "      <td>...</td>\n",
       "      <td>...</td>\n",
       "      <td>...</td>\n",
       "      <td>...</td>\n",
       "      <td>...</td>\n",
       "      <td>...</td>\n",
       "      <td>...</td>\n",
       "      <td>...</td>\n",
       "      <td>...</td>\n",
       "      <td>...</td>\n",
       "      <td>...</td>\n",
       "      <td>...</td>\n",
       "      <td>...</td>\n",
       "      <td>...</td>\n",
       "      <td>...</td>\n",
       "      <td>...</td>\n",
       "    </tr>\n",
       "    <tr>\n",
       "      <th>1322</th>\n",
       "      <td>49</td>\n",
       "      <td>713.0</td>\n",
       "      <td>intraparafloccular fissure</td>\n",
       "      <td>ipf</td>\n",
       "      <td>8</td>\n",
       "      <td>1</td>\n",
       "      <td>3</td>\n",
       "      <td>8690</td>\n",
       "      <td>1040.0</td>\n",
       "      <td>3</td>\n",
       "      <td>...</td>\n",
       "      <td>/997/1024/1040/49/</td>\n",
       "      <td>AAAAAA</td>\n",
       "      <td>NaN</td>\n",
       "      <td>NaN</td>\n",
       "      <td>f</td>\n",
       "      <td>1323</td>\n",
       "      <td>2654107150</td>\n",
       "      <td>734881840</td>\n",
       "      <td>intraparafloccular fissure</td>\n",
       "      <td>r</td>\n",
       "    </tr>\n",
       "    <tr>\n",
       "      <th>1323</th>\n",
       "      <td>57</td>\n",
       "      <td>714.0</td>\n",
       "      <td>paramedian sulcus</td>\n",
       "      <td>pms</td>\n",
       "      <td>8</td>\n",
       "      <td>1</td>\n",
       "      <td>3</td>\n",
       "      <td>8690</td>\n",
       "      <td>1040.0</td>\n",
       "      <td>3</td>\n",
       "      <td>...</td>\n",
       "      <td>/997/1024/1040/57/</td>\n",
       "      <td>AAAAAA</td>\n",
       "      <td>NaN</td>\n",
       "      <td>NaN</td>\n",
       "      <td>f</td>\n",
       "      <td>1324</td>\n",
       "      <td>3972977495</td>\n",
       "      <td>734881840</td>\n",
       "      <td>paramedian sulcus</td>\n",
       "      <td>r</td>\n",
       "    </tr>\n",
       "    <tr>\n",
       "      <th>1324</th>\n",
       "      <td>65</td>\n",
       "      <td>715.0</td>\n",
       "      <td>parafloccular sulcus</td>\n",
       "      <td>pfs</td>\n",
       "      <td>8</td>\n",
       "      <td>1</td>\n",
       "      <td>3</td>\n",
       "      <td>8690</td>\n",
       "      <td>1040.0</td>\n",
       "      <td>3</td>\n",
       "      <td>...</td>\n",
       "      <td>/997/1024/1040/65/</td>\n",
       "      <td>AAAAAA</td>\n",
       "      <td>NaN</td>\n",
       "      <td>NaN</td>\n",
       "      <td>f</td>\n",
       "      <td>1325</td>\n",
       "      <td>771629690</td>\n",
       "      <td>734881840</td>\n",
       "      <td>parafloccular sulcus</td>\n",
       "      <td>r</td>\n",
       "    </tr>\n",
       "    <tr>\n",
       "      <th>1325</th>\n",
       "      <td>624</td>\n",
       "      <td>926.0</td>\n",
       "      <td>Interpeduncular fossa</td>\n",
       "      <td>IPF</td>\n",
       "      <td>7</td>\n",
       "      <td>1</td>\n",
       "      <td>3</td>\n",
       "      <td>8690</td>\n",
       "      <td>1024.0</td>\n",
       "      <td>2</td>\n",
       "      <td>...</td>\n",
       "      <td>/997/1024/624/</td>\n",
       "      <td>AAAAAA</td>\n",
       "      <td>NaN</td>\n",
       "      <td>NaN</td>\n",
       "      <td>f</td>\n",
       "      <td>1326</td>\n",
       "      <td>1476705011</td>\n",
       "      <td>734881840</td>\n",
       "      <td>Interpeduncular fossa</td>\n",
       "      <td>r</td>\n",
       "    </tr>\n",
       "    <tr>\n",
       "      <th>1326</th>\n",
       "      <td>304325711</td>\n",
       "      <td>NaN</td>\n",
       "      <td>retina</td>\n",
       "      <td>retina</td>\n",
       "      <td>1</td>\n",
       "      <td>1</td>\n",
       "      <td>3</td>\n",
       "      <td>8690</td>\n",
       "      <td>997.0</td>\n",
       "      <td>1</td>\n",
       "      <td>...</td>\n",
       "      <td>/997/304325711/</td>\n",
       "      <td>7F2E7E</td>\n",
       "      <td>NaN</td>\n",
       "      <td>NaN</td>\n",
       "      <td>f</td>\n",
       "      <td>1327</td>\n",
       "      <td>3295290839</td>\n",
       "      <td>734881840</td>\n",
       "      <td>retina</td>\n",
       "      <td>r</td>\n",
       "    </tr>\n",
       "  </tbody>\n",
       "</table>\n",
       "<p>1327 rows × 22 columns</p>\n",
       "</div>"
      ],
      "text/plain": [
       "             id  atlas_id                           name acronym  st_level  \\\n",
       "0           997      -1.0                           root    root         0   \n",
       "1             8       0.0  Basic cell groups and regions    grey         1   \n",
       "2           567      70.0                       Cerebrum      CH         2   \n",
       "3           688      85.0                Cerebral cortex     CTX         3   \n",
       "4           695      86.0                 Cortical plate   CTXpl         4   \n",
       "...         ...       ...                            ...     ...       ...   \n",
       "1322         49     713.0     intraparafloccular fissure     ipf         8   \n",
       "1323         57     714.0              paramedian sulcus     pms         8   \n",
       "1324         65     715.0           parafloccular sulcus     pfs         8   \n",
       "1325        624     926.0          Interpeduncular fossa     IPF         7   \n",
       "1326  304325711       NaN                         retina  retina         1   \n",
       "\n",
       "      ontology_id  hemisphere_id  weight  parent_structure_id  depth  ...  \\\n",
       "0               1              3    8690                  NaN      0  ...   \n",
       "1               1              3    8690                997.0      1  ...   \n",
       "2               1              3    8690                  8.0      2  ...   \n",
       "3               1              3    8690                567.0      3  ...   \n",
       "4               1              3    8690                688.0      4  ...   \n",
       "...           ...            ...     ...                  ...    ...  ...   \n",
       "1322            1              3    8690               1040.0      3  ...   \n",
       "1323            1              3    8690               1040.0      3  ...   \n",
       "1324            1              3    8690               1040.0      3  ...   \n",
       "1325            1              3    8690               1024.0      2  ...   \n",
       "1326            1              3    8690                997.0      1  ...   \n",
       "\n",
       "        structure_id_path  color_hex_triplet neuro_name_structure_id  \\\n",
       "0                   /997/             FFFFFF                     NaN   \n",
       "1                 /997/8/             BFDAE3                     NaN   \n",
       "2             /997/8/567/             B0F0FF                     NaN   \n",
       "3         /997/8/567/688/             B0FFB8                     NaN   \n",
       "4     /997/8/567/688/695/             70FF70                     NaN   \n",
       "...                   ...                ...                     ...   \n",
       "1322   /997/1024/1040/49/             AAAAAA                     NaN   \n",
       "1323   /997/1024/1040/57/             AAAAAA                     NaN   \n",
       "1324   /997/1024/1040/65/             AAAAAA                     NaN   \n",
       "1325       /997/1024/624/             AAAAAA                     NaN   \n",
       "1326      /997/304325711/             7F2E7E                     NaN   \n",
       "\n",
       "     neuro_name_structure_id_path  failed  sphinx_id structure_name_facet  \\\n",
       "0                             NaN       f          1            385153371   \n",
       "1                             NaN       f          2           2244697386   \n",
       "2                             NaN       f          3           2878815794   \n",
       "3                             NaN       f          4           3591311804   \n",
       "4                             NaN       f          5           3945900931   \n",
       "...                           ...     ...        ...                  ...   \n",
       "1322                          NaN       f       1323           2654107150   \n",
       "1323                          NaN       f       1324           3972977495   \n",
       "1324                          NaN       f       1325            771629690   \n",
       "1325                          NaN       f       1326           1476705011   \n",
       "1326                          NaN       f       1327           3295290839   \n",
       "\n",
       "      failed_facet                      safe_name  main_parent  \n",
       "0        734881840                           root            r  \n",
       "1        734881840  Basic cell groups and regions            r  \n",
       "2        734881840                       Cerebrum            r  \n",
       "3        734881840                Cerebral cortex            r  \n",
       "4        734881840                 Cortical plate            r  \n",
       "...            ...                            ...          ...  \n",
       "1322     734881840     intraparafloccular fissure            r  \n",
       "1323     734881840              paramedian sulcus            r  \n",
       "1324     734881840           parafloccular sulcus            r  \n",
       "1325     734881840          Interpeduncular fossa            r  \n",
       "1326     734881840                         retina            r  \n",
       "\n",
       "[1327 rows x 22 columns]"
      ]
     },
     "execution_count": 73,
     "metadata": {},
     "output_type": "execute_result"
    }
   ],
   "source": [
    "import pandas as pd\n",
    "\n",
    "ontology_path = '/home/joao/DeepTraCE/registration/aba_ontology.csv'\n",
    "def load_atlas(atlas_folder):\n",
    "    ontology = pd.read_csv()\n",
    "    import nrrd\n",
    "    atlas, header = nrrd.read('/home/joao/DeepTraCE/registration/annotation_10_lsfm_collapse_crop_flip_newf.nrrd')\n",
    "    return atlas, header, ontology"
   ]
  },
  {
   "cell_type": "code",
   "execution_count": 72,
   "id": "1a4a8fbf",
   "metadata": {
    "scrolled": true
   },
   "outputs": [
    {
     "data": {
      "application/vnd.jupyter.widget-view+json": {
       "model_id": "f221e343743c400cb37bc510f08338c3",
       "version_major": 2,
       "version_minor": 0
      },
      "text/plain": [
       "0it [00:00, ?it/s]"
      ]
     },
     "metadata": {},
     "output_type": "display_data"
    },
    {
     "name": "stderr",
     "output_type": "stream",
     "text": [
      "/tmp/ipykernel_3335171/2187813672.py:11: DeprecationWarning: <tifffile.imsave> is deprecated. Use tifffile.imwrite\n",
      "  imsave(stack_path,stack)\n",
      "WARNING!\n",
      "Argument -tpis only required once.\n",
      "Arguments -tp /home/joao/DeepTraCE/temp/TransformParameters.1.txtare ignored\n"
     ]
    }
   ],
   "source": [
    "# run transformix on another dataset\n",
    "pbar = tqdm()\n",
    "elastix_apply_transform(Y,a,pbar = pbar)"
   ]
  },
  {
   "cell_type": "code",
   "execution_count": 68,
   "id": "1298f46d",
   "metadata": {},
   "outputs": [],
   "source": [
    "a = a.replace('0.txt','1.txt')\n",
    "\n"
   ]
  },
  {
   "cell_type": "code",
   "execution_count": 15,
   "id": "09c98225",
   "metadata": {},
   "outputs": [],
   "source": [
    "from deeptrace.plotting import interact_show_stack\n",
    "\n",
    "interact_show_stack(Y)"
   ]
  }
 ],
 "metadata": {
  "kernelspec": {
   "display_name": "Python 3 (ipykernel)",
   "language": "python",
   "name": "python3"
  },
  "language_info": {
   "codemirror_mode": {
    "name": "ipython",
    "version": 3
   },
   "file_extension": ".py",
   "mimetype": "text/x-python",
   "name": "python",
   "nbconvert_exporter": "python",
   "pygments_lexer": "ipython3",
   "version": "3.10.6"
  }
 },
 "nbformat": 4,
 "nbformat_minor": 5
}
