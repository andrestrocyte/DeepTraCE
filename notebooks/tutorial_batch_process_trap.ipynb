{
 "cells": [
  {
   "cell_type": "code",
   "execution_count": null,
   "id": "c0639990",
   "metadata": {},
   "outputs": [],
   "source": []
  },
  {
   "cell_type": "code",
   "execution_count": null,
   "id": "19518769",
   "metadata": {},
   "outputs": [],
   "source": [
    "\n",
    "# use matplotlib to visualize the downsampled stack\n",
    "%matplotlib qt\n",
    "# get the stack and downsample it\n",
    "from deeptrace import *\n",
    "from deeptrace.plotting import *\n",
    "import time\n",
    "from tqdm.notebook import tqdm\n",
    "\n",
    "mainfolder = 'F:\\\\WholeBrain'\n",
    "k1 = '488'\n",
    "k2 = '640'\n",
    "from glob import glob\n",
    "from os.path import join as pjoin\n",
    "brainfolders = glob(pjoin(mainfolder,'*'))\n",
    "datasets = []\n",
    "for brainfolder in brainfolders:\n",
    "    folders = glob(pjoin(brainfolder,'*'))\n",
    "    # remove folders that have no raw data\n",
    "    for ex in ['seg','deeptrace','scaled']:\n",
    "        folders = list(filter(lambda x: not ex in x,folders))\n",
    "    ch1 = None\n",
    "    ch2 = None\n",
    "    for f in folders:\n",
    "        if k1 in f:\n",
    "            ch1 = f\n",
    "        if k2 in f:\n",
    "            ch2 = f\n",
    "    datasets.append([ch1,ch2])\n",
    "\n",
    "pbar = tqdm()\n",
    "\n",
    "trap_model = ['D:\\\\WholeBrain\\\\TRAILMAP\\\\data\\\\model-weights\\\\denardo_trapmodel4.hdf5']\n",
    "\n",
    "# Open each dataset (needs downsampling) ato find the angles\n",
    "for d in datasets:\n",
    "    stack = BrainStack(d,downsample = True,pbar = pbar)\n",
    "pbar.close()"
   ]
  },
  {
   "cell_type": "code",
   "execution_count": null,
   "id": "ef10d2e8",
   "metadata": {},
   "outputs": [],
   "source": [
    "plt.close('all')\n",
    "res = []\n",
    "for d in datasets:\n",
    "    stack = BrainStack(d)\n",
    "    res.append(stack.deeptrace_analysis(angles = None,\n",
    "                               trailmap_models = trap_model,\n",
    "                               pbar = pbar))"
   ]
  },
  {
   "cell_type": "code",
   "execution_count": null,
   "id": "028f3757",
   "metadata": {},
   "outputs": [],
   "source": [
    "angles = [[float(a) for a in r['angles']] for r in res]\n",
    "angles"
   ]
  },
  {
   "cell_type": "code",
   "execution_count": null,
   "id": "2a5eceae",
   "metadata": {},
   "outputs": [],
   "source": [
    "pbar = tqdm()\n",
    "for angle,d in zip(angles,datasets):\n",
    "    stack = BrainStack(d)\n",
    "    res = stack.deeptrace_analysis(angles = angle,\n",
    "                                   trailmap_models = trap_model,\n",
    "                                   pbar = pbar)\n",
    "pbar.close()"
   ]
  }
 ],
 "metadata": {
  "kernelspec": {
   "display_name": "Python 3 (ipykernel)",
   "language": "python",
   "name": "python3"
  },
  "language_info": {
   "codemirror_mode": {
    "name": "ipython",
    "version": 3
   },
   "file_extension": ".py",
   "mimetype": "text/x-python",
   "name": "python",
   "nbconvert_exporter": "python",
   "pygments_lexer": "ipython3",
   "version": "3.7.13"
  }
 },
 "nbformat": 4,
 "nbformat_minor": 5
}
