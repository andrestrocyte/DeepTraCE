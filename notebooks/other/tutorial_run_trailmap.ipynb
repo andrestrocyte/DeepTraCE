{
 "cells": [
  {
   "cell_type": "code",
   "execution_count": null,
   "id": "fc071a0d",
   "metadata": {},
   "outputs": [],
   "source": [
    "from deeptrace import *\n",
    "stack = BrainStack(channel_folders=['/home/joao/deeptrace_data/210723_NAc326F_488_s3_0_8x_13-31-25/',\n",
    "                   '/home/joao/deeptrace_data/210723_NAc326F_640_s3_0_8x_11-50-51/'])\n",
    "trailmap_channel = 1\n",
    "stack.set_active_channels([trailmap_channel])\n"
   ]
  },
  {
   "cell_type": "code",
   "execution_count": null,
   "id": "f0b1435a",
   "metadata": {},
   "outputs": [],
   "source": [
    "\n",
    "files = stack.channel_files[trailmap_channel]\n",
    "from tqdm.notebook import tqdm\n",
    "pbar = tqdm()\n",
    "models = trailmap_list_models()\n",
    "model_path = models[0]\n",
    "trailmap_segment_tif_files(model_path, files,pbar = pbar)"
   ]
  },
  {
   "cell_type": "code",
   "execution_count": null,
   "id": "aacbc7ab",
   "metadata": {},
   "outputs": [],
   "source": [
    "model_path"
   ]
  },
  {
   "cell_type": "code",
   "execution_count": null,
   "id": "5da193f9",
   "metadata": {},
   "outputs": [],
   "source": [
    "stack = BrainStack(channel_folders=['../../sampledata/denardo_trapmodel4_seg-210723_NAc326F_640_s3_0_8x_11-50-51'])\n",
    "stack.downsample(pbar = pbar)"
   ]
  },
  {
   "cell_type": "code",
   "execution_count": null,
   "id": "7f2c656f",
   "metadata": {},
   "outputs": [],
   "source": [
    "# now use 3 colors to visualize\n",
    "stack = BrainStack(channel_folders=['../../sampledata/denardo_trapmodel4_seg-210723_NAc326F_640_s3_0_8x_11-50-51',\n",
    "                                   '../../sampledata/210723_NAc326F_488_s3_0_8x_13-31-25/',\n",
    "                                    '../../sampledata/210723_NAc326F_640_s3_0_8x_11-50-51/'],downsample = True)\n"
   ]
  }
 ],
 "metadata": {
  "kernelspec": {
   "display_name": "Python 3 (ipykernel)",
   "language": "python",
   "name": "python3"
  },
  "language_info": {
   "codemirror_mode": {
    "name": "ipython",
    "version": 3
   },
   "file_extension": ".py",
   "mimetype": "text/x-python",
   "name": "python",
   "nbconvert_exporter": "python",
   "pygments_lexer": "ipython3",
   "version": "3.7.16"
  }
 },
 "nbformat": 4,
 "nbformat_minor": 5
}
