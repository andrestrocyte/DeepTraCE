{
 "cells": [
  {
   "cell_type": "code",
   "execution_count": null,
   "id": "fc071a0d",
   "metadata": {},
   "outputs": [],
   "source": [
    "from deeptrace import *\n",
    "stack = BrainStack(channel_folders=['../../sampledata/210723_NAc326F_488_s3_0_8x_13-31-25/',\n",
    "                   '../../sampledata/210723_NAc326F_640_s3_0_8x_11-50-51/'])\n",
    "trailmap_channel = 1\n",
    "stack.set_active_channels([trailmap_channel])\n"
   ]
  },
  {
   "cell_type": "code",
   "execution_count": null,
   "id": "9bcd0e2c",
   "metadata": {},
   "outputs": [],
   "source": [
    "\n",
    "files = stack.channel_files[trailmap_channel]\n",
    "from tqdm.notebook import tqdm\n",
    "pbar = tqdm()\n",
    "models = trailmap_list_models()\n",
    "model_path = models[4]\n",
    "trailmap_segment_tif_files(model_path, files,pbar = pbar)    "
   ]
  }
 ],
 "metadata": {
  "kernelspec": {
   "display_name": "Python 3 (ipykernel)",
   "language": "python",
   "name": "python3"
  },
  "language_info": {
   "codemirror_mode": {
    "name": "ipython",
    "version": 3
   },
   "file_extension": ".py",
   "mimetype": "text/x-python",
   "name": "python",
   "nbconvert_exporter": "python",
   "pygments_lexer": "ipython3",
   "version": "3.7.16"
  }
 },
 "nbformat": 4,
 "nbformat_minor": 5
}
